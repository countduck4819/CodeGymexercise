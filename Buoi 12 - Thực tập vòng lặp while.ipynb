{
 "cells": [
  {
   "cell_type": "markdown",
   "id": "1f7be993",
   "metadata": {},
   "source": [
    "# Thực tập vòng lặp While\n",
    "\n",
    "### Bài 1\n",
    "\n",
    "Nhập vào số a, sử dụng lệnh while (không sử dụng break và for) để xác định xem số đó có phải là số nguyên tố hay không"
   ]
  },
  {
   "cell_type": "code",
   "execution_count": null,
   "id": "8cb73965",
   "metadata": {},
   "outputs": [],
   "source": [
    "a=float(input(\"Nhập vào số a:\"))\n",
    "while a!=int(a) or a<=0:\n",
    "    print(\"Yêu cầu nhập lại:\")\n",
    "dem=0\n",
    "uoc=1\n",
    "while  a>1 and uoc<=a:\n",
    "    if a%uoc==0:\n",
    "        dem=dem+1\n",
    "    uoc=uoc+1\n",
    "if dem>2: \n",
    "    print(\"Đây không phải số nguyên tố\")\n",
    "elif dem==2:\n",
    "    print(\"Đây là số nguyên tố\")"
   ]
  },
  {
   "cell_type": "markdown",
   "id": "9f2357ca",
   "metadata": {},
   "source": [
    "### Bài 2\n",
    "\n",
    "Hãy sử dụng lệnh while lập trình cho bài đoán số ở buổi thứ 10"
   ]
  },
  {
   "cell_type": "code",
   "execution_count": 1,
   "id": "db79cb9d",
   "metadata": {},
   "outputs": [
    {
     "name": "stdout",
     "output_type": "stream",
     "text": [
      "Số bạn đoán là  : 50\n",
      "Nhập vào câu trả lời:L\n",
      "Số bạn đoán là  : 75\n",
      "Nhập vào câu trả lời:L\n",
      "Số bạn đoán là  : 88\n",
      "Nhập vào câu trả lời:L\n",
      "Số bạn đoán là  : 95\n",
      "Nhập vào câu trả lời:L\n",
      "Số bạn đoán là  : 99\n",
      "Nhập vào câu trả lời:N\n",
      "Số bạn đoán là  : 97\n",
      "Nhập vào câu trả lời:L\n",
      "Số bạn đoán là  : 98\n",
      "Nhập vào câu trả lời:N\n",
      "Số bạn đoán là  : 97\n",
      "Nhập vào câu trả lời:N\n",
      "Số bạn đoán là  : 96\n",
      "Nhập vào câu trả lời:dsa\n",
      "Yêu cầu nhập lại:da\n",
      "Yêu cầu nhập lại:L\n",
      "Số bạn đoán là  : 97\n",
      "Nhập vào câu trả lời:L\n",
      "Số bạn đoán là  : 98\n",
      "Nhập vào câu trả lời:L\n",
      "Số bạn đoán là  : 99\n",
      "Nhập vào câu trả lời:sad\n",
      "Yêu cầu nhập lại:B\n",
      "Số bạn chọn là : 99\n"
     ]
    }
   ],
   "source": [
    "sodoan=50\n",
    "print(\"Số bạn đoán là  :\",sodoan)\n",
    "a=input(\"Nhập vào câu trả lời:\")\n",
    "while a!=\"N\" and a!=\"L\" and a!=\"B\":\n",
    "    a=input(\"Yêu cầu nhập lại\")\n",
    "b=50\n",
    "c=25\n",
    "while b<=100 and b>=0:\n",
    "    if a==\"L\":\n",
    "        b=b+c\n",
    "        if b>99:\n",
    "            print(\"Số bạn đoán là  :\",100)\n",
    "        else:\n",
    "            print(\"Số bạn đoán là  :\",b)\n",
    "    elif a==\"N\":\n",
    "        b=b-c\n",
    "        if b<1:\n",
    "            print(\"Số bạn đoán là  :\",0)\n",
    "        else:\n",
    "            print(\"Số bạn đoán là  :\",b)\n",
    "    elif a==\"B\":\n",
    "        print(\"Số bạn chọn là :\",b)\n",
    "        break\n",
    "    if c!=0 :\n",
    "        c=int(c/2+0.5)\n",
    "    if c<=1:\n",
    "        c=1\n",
    "    a=input(\"Nhập vào câu trả lời:\")\n",
    "    while a!=\"N\" and a!=\"L\" and a!=\"B\":\n",
    "        a=input(\"Yêu cầu nhập lại:\")\n",
    "\n",
    "    \n",
    "\n"
   ]
  },
  {
   "cell_type": "markdown",
   "id": "58f5b789",
   "metadata": {},
   "source": [
    "### Bài 3\n",
    "\n",
    "Nhập vào số a, hãy đếm a có bao nhiêu chữ số chẵn, bao nhiêu cữ số lẻ\n",
    "\n",
    "#### Cách 1 (dùng chuỗi):"
   ]
  },
  {
   "cell_type": "code",
   "execution_count": null,
   "id": "e7f9da21",
   "metadata": {},
   "outputs": [],
   "source": [
    "a=int(input(\"Nhập vào số a:\"))\n",
    "chuoi=str(a)\n",
    "vitri=0\n",
    "while \n",
    "    if \n",
    "        chuoi[vitri]"
   ]
  },
  {
   "cell_type": "code",
   "execution_count": 9,
   "id": "f2a33de3",
   "metadata": {},
   "outputs": [
    {
     "name": "stdout",
     "output_type": "stream",
     "text": [
      "Nhập số:12345\n",
      "Có 2 số chẵn\n",
      "Có 3 số lẻ\n"
     ]
    }
   ],
   "source": [
    "a = int(input(\"Nhập số:\"))\n",
    "sochan = 0\n",
    "sole= 0\n",
    "chuoi = str(a)\n",
    "vitri = 0\n",
    "while vitri < len(chuoi):\n",
    "    if int(chuoi[vitri])%2 == 0:\n",
    "        sochan += 1\n",
    "    else:\n",
    "        sole += 1\n",
    "    vitri += 1    \n",
    "print(\"Có\",sochan,\"số chẵn\")\n",
    "print(\"Có\",sole,\"số lẻ\")\n"
   ]
  },
  {
   "cell_type": "markdown",
   "id": "9a3d9703",
   "metadata": {},
   "source": [
    "#### Cách 2 (không dùng chuỗi):"
   ]
  },
  {
   "cell_type": "code",
   "execution_count": null,
   "id": "d4e474c8",
   "metadata": {},
   "outputs": [],
   "source": [
    "a=int(input(\"Nhập vào số a:\"))\n",
    "demchan=0\n",
    "demle=0\n",
    "while a!=0:\n",
    "    b=a%10\n",
    "    a=a//10\n",
    "    if b%2==0 :\n",
    "        demchan=demchan+1\n",
    "    else:\n",
    "        demle=demle+1\n",
    "print(\"số số lẻ là:\",demle)\n",
    "print(\"số số chẵn là:\",demchan)\n",
    "        \n",
    "    \n",
    "    "
   ]
  },
  {
   "cell_type": "code",
   "execution_count": null,
   "id": "4b1c24c0",
   "metadata": {},
   "outputs": [],
   "source": [
    "a = int(input(\"Nhập vào số a:\"))\n",
    "demchan=0\n",
    "demle=0\n",
    "while a!=0:\n",
    "    tachso = a % 10\n",
    "    a = a//10\n",
    "    if tachso%2==1:\n",
    "         demle= demle + 1\n",
    "    else:\n",
    "        demchan = demchan + 1\n",
    "print(\"tổng số lẻ là:\",demle,\"tổng số chẵn là:\",demchan)\n"
   ]
  },
  {
   "cell_type": "markdown",
   "id": "8fc57ee7",
   "metadata": {},
   "source": [
    "Bài 4\n",
    "\n",
    "Nhập vào số a, hãy tính tổng các chữ số nguyên tố của a"
   ]
  },
  {
   "cell_type": "code",
   "execution_count": null,
   "id": "f001bd9a",
   "metadata": {},
   "outputs": [],
   "source": [
    "a=int(input(\"Nhập vào 1 số a:\"))\n",
    "uoc=1\n",
    "tong=0\n",
    "while a!=0:\n",
    "    tachso=a%10\n",
    "    a=a//10\n",
    "    if tachso==3 or tachso==5 or tachso==7 or tachso==2:\n",
    "        tong=tachso +tong\n",
    "print(tong)"
   ]
  },
  {
   "cell_type": "markdown",
   "id": "0a5075a4",
   "metadata": {},
   "source": [
    "### Bài 5\n",
    "\n",
    "Số armstrong là số có tổng lập phương các chữ số bằng chính nó\n",
    "\n",
    "Ví dụ\n",
    "\n",
    "Số 371 là một số armstrong vì:\n",
    "\n",
    "371 = 3^3 + 7^3 + 1^3\n",
    "\n",
    "Nhập vào số a, kiểm tra xem a có phải là số armstrong không"
   ]
  },
  {
   "cell_type": "code",
   "execution_count": null,
   "id": "b9ed54a5",
   "metadata": {},
   "outputs": [],
   "source": [
    "a=int(input(\"Nhập vào 1 số:\"))\n",
    "while a<0:\n",
    "    a=int(input(\"Yêu cầu nhập lại\"))\n",
    "tong=0\n",
    "b=int(a)\n",
    "socacso=len(str(a))\n",
    "while b!=0:\n",
    "    tachso=b%10\n",
    "    b=b//10\n",
    "    tong=tachso**(socacso)+tong\n",
    "if tong == a :\n",
    "    print(a,\": Là số armstrong \")\n",
    "else:\n",
    "    print(a,\":Không là số armstrong\")\n",
    "\n",
    "    \n",
    "    \n",
    "    \n"
   ]
  },
  {
   "cell_type": "code",
   "execution_count": null,
   "id": "57a722fc",
   "metadata": {},
   "outputs": [],
   "source": [
    "a = int(input(\"Nhập a:\"))\n",
    "while (a<0):\n",
    "    a = int(input(\"Vui lòng nhập lại\")) \n",
    "c = a\n",
    "sochuso = 0\n",
    "while(a >= 1):\n",
    "    a = a/10\n",
    "    sochuso = sochuso + 1\n",
    "a = c\n",
    "tong = 0\n",
    "while a > 0:\n",
    "    tachso = a % 10\n",
    "    tong = tong + tachso**sochuso\n",
    "    a = a // 10\n",
    "a = c\n",
    "if tong == a:\n",
    "    print(a,\"là số armstrong\")\n",
    "else:\n",
    "    print(a,\"không là số armstrong\")"
   ]
  },
  {
   "cell_type": "markdown",
   "id": "f8a584d3",
   "metadata": {},
   "source": [
    "### Bài 6\n",
    "\n",
    "Dãy số fibonacci là dãy số được định nghĩa như sau: 1, 1, 2, 3, 5, 8, 13,... với số kế tiếp sẽ bằng tổng hai số trước đó\n",
    "\n",
    "Nhập vào A, hãy tìm số trong dãy số fibonacci lớn nhất nhưng không vượt quá A"
   ]
  },
  {
   "cell_type": "code",
   "execution_count": null,
   "id": "3ad4d85b",
   "metadata": {},
   "outputs": [],
   "source": [
    "A=int(input(\"Nhập vào số A:\"))\n",
    "while A<0 :\n",
    "    A=int(input(\"Nhập lại số A:\"))\n",
    "sotruoc=1\n",
    "sosau=1\n",
    "tong=2\n",
    "while tong<=A:\n",
    "    sotruoc = sosau\n",
    "    sosau=tong\n",
    "    tong=sotruoc+sosau\n",
    "if tong<=A:\n",
    "    print(\"số trong dãy số fibonacci lớn nhất nhưng không vượt quá A là:\",tong)\n",
    "else:\n",
    "    print(\"số trong dãy số fibonacci lớn nhất nhưng không vượt quá A là:\",tong-sotruoc)\n",
    "    \n"
   ]
  },
  {
   "cell_type": "markdown",
   "id": "9fa794f2",
   "metadata": {},
   "source": [
    "### Bài 7\n",
    "\n",
    "Nhập vào A, tìm n nhỏ nhất sao cho\n",
    "\n",
    "1 + 1/2 + 1/3 + 1/4 + ... + 1/n > A"
   ]
  },
  {
   "cell_type": "code",
   "execution_count": 2,
   "id": "531a307e",
   "metadata": {},
   "outputs": [
    {
     "name": "stdout",
     "output_type": "stream",
     "text": [
      "Nhập vào số A:12\n",
      "91380\n"
     ]
    }
   ],
   "source": [
    "A=float(input(\"Nhập vào số A:\"))\n",
    "n=1\n",
    "tong=1\n",
    "while tong<=A and A>0:\n",
    "    n=n+1\n",
    "    sohang=1/n\n",
    "    tong=tong+sohang\n",
    "if tong>A and A>0:\n",
    "    print(n)\n",
    "if A<=0:\n",
    "    print(\"n=1\")\n",
    "\n",
    "    "
   ]
  },
  {
   "cell_type": "markdown",
   "id": "c5fd4d8a",
   "metadata": {},
   "source": [
    "### Bài 8\n",
    "\n",
    "Nhập vào a và b (b có một chữ số, nhập sai yêu cầu nhập lại), hãy tìm vị trí đầu tiên bên trái của b trong a, nếu không tìm thấy thì in kết quả là 0 (ví trí đầu bắt đầu từ 1)"
   ]
  },
  {
   "cell_type": "code",
   "execution_count": 4,
   "id": "6054b319",
   "metadata": {},
   "outputs": [
    {
     "name": "stdout",
     "output_type": "stream",
     "text": [
      "Nhập vào 1 số a:12342\n",
      "Nhập vào 1 số b:3\n",
      "vị trí đầu tiên bên trái của b trong a: 3\n"
     ]
    }
   ],
   "source": [
    "a=float(input(\"Nhập vào 1 số a:\"))\n",
    "b=int(input(\"Nhập vào 1 số b:\"))\n",
    "while b<0 and b>9:\n",
    "    b=int(input(\"Nhập lại số b:\"))\n",
    "dem=0\n",
    "c=a\n",
    "while a!=0:#tìm số các chữ số có trong a\n",
    "    a=a//10\n",
    "    dem=dem+1\n",
    "sochusoa=dem\n",
    "a=c\n",
    "vitri=0\n",
    "while vitri<=sochusoa:\n",
    "    tachso=a%10#tách từng số kiểm tra xem có bằng hay ko\n",
    "    a=a//10\n",
    "    if tachso ==b:\n",
    "        vitringuoc=vitri\n",
    "    vitri=vitri+1\n",
    "if vitringuoc==0 and c%10!=b:\n",
    "    print(\"vị trí đầu tiên bên trái của b trong a:\",\"0\")\n",
    "else:\n",
    "    print(\"vị trí đầu tiên bên trái của b trong a:\",sochusoa-vitringuoc)\n",
    "\n",
    "        \n",
    "        "
   ]
  },
  {
   "cell_type": "code",
   "execution_count": 1,
   "id": "9edf35ac",
   "metadata": {
    "scrolled": true
   },
   "outputs": [
    {
     "name": "stdout",
     "output_type": "stream",
     "text": [
      "Nhập vào số a:-1823\n",
      "Nhập vào số b:3\n",
      "5\n"
     ]
    }
   ],
   "source": [
    "a=float(input(\"Nhập vào số a:\"))\n",
    "b=int(input(\"Nhập vào số b:\"))\n",
    "while 9<b or b<0:\n",
    "    b=int(input(\"Nhập lại số b:\"))\n",
    "vitri=str(a).find(str(b))\n",
    "print(vitri+1)"
   ]
  },
  {
   "cell_type": "code",
   "execution_count": 3,
   "id": "df311c50",
   "metadata": {},
   "outputs": [
    {
     "name": "stdout",
     "output_type": "stream",
     "text": [
      "Nhập vào số a:1234\n",
      "Nhập vào số b:3\n",
      "2\n"
     ]
    }
   ],
   "source": [
    "a=float(input(\"Nhập vào số a:\"))\n",
    "b=int(input(\"Nhập vào số b:\"))\n",
    "while 9<b or b<0:\n",
    "    b=b=int(input(\"Nhập lại số b:\"))\n",
    "vitri=0\n",
    "while str(a)[vitri]!=str(b):\n",
    "    vitri=vitri+1\n",
    "    if vitri==len(str(a)):\n",
    "        vitri=vitri-1\n",
    "        print(\"0\")\n",
    "        break\n",
    "print(vitri+1)"
   ]
  },
  {
   "cell_type": "code",
   "execution_count": null,
   "id": "feb6555d",
   "metadata": {},
   "outputs": [],
   "source": [
    "a=float(input(\"Nhập vào số a:\"))\n",
    "b=int(input(\"Nhập vào số b:\"))\n",
    "while 9<b or b<0:\n",
    "    b=int(input(\"Nhập lại số b:\"))\n",
    "vitri=str(a).find(str(b))\n",
    "print(vitri)"
   ]
  },
  {
   "cell_type": "code",
   "execution_count": null,
   "id": "14157390",
   "metadata": {},
   "outputs": [],
   "source": [
    "a=float(input(\"Nhập vào số a:\"))\n",
    "b=int(input(\"Nhập vào số b:\"))\n",
    "while 9<b or b<0:\n",
    "    b=b=int(input(\"Nhập lại số b:\"))\n",
    "vitri=0\n",
    "while str(a)[vitri]!=str(b):\n",
    "    vitri=vitri+1\n",
    "    if vitri==len(str(a)):\n",
    "        vitri=vitri-1\n",
    "        print(\"0\")\n",
    "        break\n",
    "print(vitri)"
   ]
  }
 ],
 "metadata": {
  "kernelspec": {
   "display_name": "Python 3 (ipykernel)",
   "language": "python",
   "name": "python3"
  },
  "language_info": {
   "codemirror_mode": {
    "name": "ipython",
    "version": 3
   },
   "file_extension": ".py",
   "mimetype": "text/x-python",
   "name": "python",
   "nbconvert_exporter": "python",
   "pygments_lexer": "ipython3",
   "version": "3.10.0"
  }
 },
 "nbformat": 4,
 "nbformat_minor": 5
}
