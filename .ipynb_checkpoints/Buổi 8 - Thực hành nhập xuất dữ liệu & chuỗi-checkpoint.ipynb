{
 "cells": [
  {
   "cell_type": "code",
   "execution_count": null,
   "id": "c52081bb",
   "metadata": {},
   "outputs": [],
   "source": []
  },
  {
   "cell_type": "markdown",
   "id": "5bc93fb0",
   "metadata": {},
   "source": [
    "# Thực hành nhập xuất dữ liệu & chuỗi\n",
    "\n",
    "### Bài tập tra cứu lệnh\n",
    "\n",
    "Nhập vào một chuỗi, kiểm tra xem chuỗi đó có ký tự nào là chữ in hoa hay không, nếu có thì in True, không có thì in False"
   ]
  },
  {
   "cell_type": "code",
   "execution_count": 5,
   "id": "4b3df2ba",
   "metadata": {
    "scrolled": true
   },
   "outputs": [
    {
     "name": "stdout",
     "output_type": "stream",
     "text": [
      "Mời nhập chuỗi:djadH\n",
      "True\n"
     ]
    }
   ],
   "source": [
    "a = input(\"Mời nhập chuỗi:\")\n",
    "b=a.lower()\n",
    "\n",
    "print(a!=b)"
   ]
  },
  {
   "cell_type": "markdown",
   "id": "e14eae7c",
   "metadata": {},
   "source": [
    "Nhập vào một chuỗi, kiểm tra xem chuỗi đó có ký tự nào là chữ in thường hay không, nếu có thì in True, không có thì in False"
   ]
  },
  {
   "cell_type": "code",
   "execution_count": 6,
   "id": "ab00180c",
   "metadata": {},
   "outputs": [
    {
     "name": "stdout",
     "output_type": "stream",
     "text": [
      "Nhập vào chuỗi:Dndada\n",
      "True\n"
     ]
    }
   ],
   "source": [
    "a = input(\"Nhập vào chuỗi:\")\n",
    "print(not a.isupper())"
   ]
  },
  {
   "cell_type": "markdown",
   "id": "eab86ecf",
   "metadata": {},
   "source": [
    "Nhập vào một chuỗi a và chuỗi b, tìm vị trí đầu tiên xuất hiện chuỗi b trong chuỗi a"
   ]
  },
  {
   "cell_type": "code",
   "execution_count": 16,
   "id": "051eb4af",
   "metadata": {},
   "outputs": [
    {
     "name": "stdout",
     "output_type": "stream",
     "text": [
      "cac b hello\n",
      "locc\n",
      "-1\n"
     ]
    }
   ],
   "source": [
    "a=input()\n",
    "b=input()\n",
    "print(a.find(b))\n",
    "\n"
   ]
  },
  {
   "cell_type": "markdown",
   "id": "9239bc4e",
   "metadata": {},
   "source": [
    "Nhập vào một chuỗi a, hãy xóa từ đầu tiên trong chuỗi a, rồi in ra màn hình"
   ]
  },
  {
   "cell_type": "code",
   "execution_count": 22,
   "id": "90967cd9",
   "metadata": {},
   "outputs": [
    {
     "name": "stdout",
     "output_type": "stream",
     "text": [
      "Nhập vào chuỗi:dâd\n",
      "0\n",
      " dâd\n"
     ]
    }
   ],
   "source": [
    "a = input(\"Nhập vào chuỗi:\")\n",
    "b = a.find(\" \")\n",
    "print(b)\n",
    "print(a[b+1:])"
   ]
  },
  {
   "cell_type": "markdown",
   "id": "05b74fb4",
   "metadata": {},
   "source": [
    "### Bài 1\n",
    "\n",
    "Nhập vào một chuỗi, đếm xem có bao nhiêu từ trong chuỗi kết thúc bằng chữ n"
   ]
  },
  {
   "cell_type": "code",
   "execution_count": 6,
   "id": "d126675c",
   "metadata": {},
   "outputs": [
    {
     "name": "stdout",
     "output_type": "stream",
     "text": [
      "Nhập câu :d đâkda\n",
      "0\n"
     ]
    }
   ],
   "source": [
    "a=input(\"Nhập câu :\")+\" \"\n",
    "bb=\"n \"\n",
    "bbb=\"n.\"\n",
    "bbbb=\"n,\"\n",
    "print(a.count(bb) and a.count(bbb) and a.count(bbbb)  )"
   ]
  },
  {
   "cell_type": "markdown",
   "id": "53a78d35",
   "metadata": {},
   "source": [
    "### Bài 2\n",
    "\n",
    "Nhập vào một chuỗi, kiểm tra xem chuỗi đó có ký tự hoa hoặc ký tự thường hay không."
   ]
  },
  {
   "cell_type": "code",
   "execution_count": 11,
   "id": "f5be8c39",
   "metadata": {},
   "outputs": [
    {
     "name": "stdout",
     "output_type": "stream",
     "text": [
      " Nhập câu:Hdada\n",
      "kiểm tra kí tự hoa: True\n",
      "kiểm tra kí tự thường: True\n"
     ]
    }
   ],
   "source": [
    "a= input(\" Nhập câu:\")\n",
    "print(\"kiểm tra kí tự hoa:\", not a.islower())\n",
    "print(\"kiểm tra kí tự thường:\", not a.isupper())\n"
   ]
  },
  {
   "cell_type": "markdown",
   "id": "64ca662e",
   "metadata": {},
   "source": [
    "### Bài 3\n",
    "\n",
    "Nhập vào một chuỗi, kiểm tra tính đối xứng của chuỗi đó"
   ]
  },
  {
   "cell_type": "code",
   "execution_count": 1,
   "id": "5ea023ef",
   "metadata": {},
   "outputs": [
    {
     "name": "stdout",
     "output_type": "stream",
     "text": [
      "nhập chuỗi cần kiểm tra tính đối xứng:1234321\n",
      "1234321\n",
      "True\n"
     ]
    }
   ],
   "source": [
    "chuoi = input(\"nhập chuỗi cần kiểm tra tính đối xứng:\")\n",
    "print(chuoi[::-1])\n",
    "print(chuoi[::-1] == chuoi)"
   ]
  },
  {
   "cell_type": "code",
   "execution_count": 3,
   "id": "749f4136",
   "metadata": {},
   "outputs": [
    {
     "name": "stdout",
     "output_type": "stream",
     "text": [
      "Nhập chuỗi: 213313\n",
      "213\n",
      "313\n"
     ]
    }
   ],
   "source": [
    "a = input('Nhập chuỗi: ')\n",
    "b = a[0:int(len(a)/2)]\n",
    "c = a[-1:-int(len(a)/2+1):-1]\n",
    "d = b == c\n",
    "print(b)\n",
    "print(c)\n",
    "#print(d)"
   ]
  },
  {
   "cell_type": "markdown",
   "id": "85dd8fef",
   "metadata": {},
   "source": [
    "### Bài 4\n",
    "\n",
    "Nhập vào một chuỗi, in ra những ký tự in hoa trong chuỗi đó"
   ]
  },
  {
   "cell_type": "code",
   "execution_count": null,
   "id": "0d099247",
   "metadata": {},
   "outputs": [],
   "source": [
    "\n",
    "\n"
   ]
  },
  {
   "cell_type": "markdown",
   "id": "1373dc74",
   "metadata": {},
   "source": [
    "### Bài 5\n",
    "\n",
    "Nhập vào một chuỗi, tìm các ký tự chỉ xuất hiện một lần trong chuỗi (nếu xuất hiện 1 lần in true, xuất hiện nhiều lần in false)\n",
    "\n",
    "Ví dụ:\n",
    "\n",
    "Nhập chuỗi: \"ABAbc\"\n",
    "\n",
    "In:\n",
    "\n",
    "A: False\n",
    "\n",
    "B: True\n",
    "\n",
    "A: False\n",
    "\n",
    "b: True\n",
    "\n",
    "c: True"
   ]
  },
  {
   "cell_type": "code",
   "execution_count": null,
   "id": "a93bc53d",
   "metadata": {},
   "outputs": [],
   "source": [
    "chuoi = input(\"nhap chuoi: \")\n",
    "vitri = 0\n",
    "\n",
    "for i in range(len(chuoi)):\n",
    "    a = chuoi[vitri]\n",
    "    b = chuoi.count(a) == 1\n",
    "    print(a,b,sep=\": \")\n",
    "    vitri = vitri + 1\n"
   ]
  },
  {
   "cell_type": "markdown",
   "id": "69bebf4c",
   "metadata": {},
   "source": [
    "### Bài 6\n",
    "\n",
    "Nhập vào một chuỗi, kiểm tra trong chuỗi có con số hay không, nếu có in True, không có in False"
   ]
  },
  {
   "cell_type": "code",
   "execution_count": 8,
   "id": "1b4eab4f",
   "metadata": {},
   "outputs": [
    {
     "name": "stdout",
     "output_type": "stream",
     "text": [
      "Nhập vào 1 chuỗi:     \n",
      "Kiểm tra xem có số : False\n"
     ]
    }
   ],
   "source": [
    "a= input(\"Nhập vào 1 chuỗi: \")\n",
    "b= not a.isalpha()\n",
    "c = not \"!\" and not\" \"\n",
    "print(\"Kiểm tra xem có số :\",b and c)"
   ]
  },
  {
   "cell_type": "code",
   "execution_count": null,
   "id": "55d193ba",
   "metadata": {},
   "outputs": [],
   "source": []
  },
  {
   "cell_type": "markdown",
   "id": "1e51403c",
   "metadata": {},
   "source": [
    "### Bài 7\n",
    "\n",
    "Nhập vào một chuỗi, tách những con số có trong chuỗi ra rồi tính tổng của chúng\n",
    "\n",
    "In tổng lên màn hình"
   ]
  },
  {
   "cell_type": "code",
   "execution_count": 14,
   "id": "a34e349d",
   "metadata": {},
   "outputs": [
    {
     "name": "stdout",
     "output_type": "stream",
     "text": [
      "Nhập vào 1 chuỗi:qkeqwjk313131\n",
      "12\n"
     ]
    }
   ],
   "source": [
    "a = input(\"Nhập vào 1 chuỗi:\")\n",
    "s=0\n",
    "x=0\n",
    "for i in range(len(a)):\n",
    "    s = s + x*(a.count(str(x)))\n",
    "    x=x +1\n",
    "print(s)\n",
    "    \n",
    "    \n",
    "\n",
    "\n"
   ]
  },
  {
   "cell_type": "code",
   "execution_count": 16,
   "id": "b4302c44",
   "metadata": {},
   "outputs": [
    {
     "name": "stdout",
     "output_type": "stream",
     "text": [
      "Nhập vào 1 chuỗi:đâ43242\n",
      "15\n"
     ]
    }
   ],
   "source": [
    "a = input(\"Nhập vào 1 chuỗi:\")\n",
    "s=0\n",
    "\n",
    "for i in range(9):\n",
    "    s = s + i*(a.count(str(i)))\n",
    "print(s)"
   ]
  },
  {
   "cell_type": "markdown",
   "id": "e951779d",
   "metadata": {},
   "source": [
    "### Bài 8\n",
    "\n",
    "Nhập vào một chuỗi, đảo ngược chuỗi đã nhập rồi in ra màn hình"
   ]
  },
  {
   "cell_type": "code",
   "execution_count": 3,
   "id": "d2630c55",
   "metadata": {},
   "outputs": [
    {
     "name": "stdout",
     "output_type": "stream",
     "text": [
      "Nhập vào 1 chuỗi:3313\n",
      "3133\n"
     ]
    }
   ],
   "source": [
    "a= input(\"Nhập vào 1 chuỗi:\")\n",
    "b=a[::-1]\n",
    "print(b)\n",
    "\n"
   ]
  },
  {
   "cell_type": "code",
   "execution_count": null,
   "id": "9305f0f1",
   "metadata": {},
   "outputs": [],
   "source": []
  },
  {
   "cell_type": "markdown",
   "id": "04194b5c",
   "metadata": {},
   "source": [
    "### Bài 9\n",
    "\n",
    "Nhập vào một chuỗi, kiểm tra xem mỗi từ trong chuỗi có được viết hoa chữ cái đầu hay không, nếu tất cả đều được viết hoa thì in ra True, còn không thì in ra False\n",
    "\n",
    "Trong trường hợp là False, hãy viết hoa tất cả các chữ cái đầu của mỗi từ rồi in lên màn hình\n",
    "\n",
    "Cách làm thông thường:"
   ]
  },
  {
   "cell_type": "code",
   "execution_count": 71,
   "id": "9f947c7d",
   "metadata": {},
   "outputs": [
    {
     "name": "stdout",
     "output_type": "stream",
     "text": [
      "Nhập 1 chuỗi:Hai ba\n",
      "True\n",
      "True\n"
     ]
    },
    {
     "data": {
      "text/plain": [
       "'    \\nif K==True:\\n    print(True)\\nelse:\\n    print(False)\\n'"
      ]
     },
     "execution_count": 71,
     "metadata": {},
     "output_type": "execute_result"
    }
   ],
   "source": [
    "a = \" \"+input(\"Nhập 1 chuỗi:\")\n",
    "\n",
    "for i in range(a.count(\" \")):\n",
    "    x=a[a.find(\" \")+1:]\n",
    "    K=x[0].upper()==x[0]\n",
    "    print(K)\n",
    "\n",
    "'''    \n",
    "if K==True:\n",
    "    print(True)\n",
    "else:\n",
    "    print(False)\n",
    "'''  \n",
    " \n",
    "\n",
    "\n",
    "\n",
    "\n"
   ]
  },
  {
   "cell_type": "code",
   "execution_count": 80,
   "id": "a82d2871",
   "metadata": {},
   "outputs": [
    {
     "name": "stdout",
     "output_type": "stream",
     "text": [
      "Nhập 1 chuỗi:Năm Sáu\n",
      "True\n"
     ]
    }
   ],
   "source": [
    "a = \" \"+input(\"Nhập 1 chuỗi:\")\n",
    "\n",
    "for i in range(a.count(\" \")):\n",
    "    x=a.find(\" \")\n",
    "    a=a[x+1:]\n",
    "    K=a[0].upper()==a[0]\n",
    "if K==True:\n",
    "    print(True)\n",
    "else:\n",
    "    print(False)\n",
    "\n"
   ]
  },
  {
   "cell_type": "code",
   "execution_count": 66,
   "id": "64956e9e",
   "metadata": {},
   "outputs": [
    {
     "name": "stdout",
     "output_type": "stream",
     "text": [
      "Nhập chuỗi:Hai ba\n",
      "True\n",
      "False\n"
     ]
    },
    {
     "data": {
      "text/plain": [
       "'  \\n    if M==True:\\n    print(\"True\")\\nelse:\\n    print(\"Fasle\")\\n'"
      ]
     },
     "execution_count": 66,
     "metadata": {},
     "output_type": "execute_result"
    }
   ],
   "source": [
    "s=\" \" + input(\"Nhập chuỗi:\")\n",
    "for i in range(s.count(\" \")):\n",
    "    x = s.find(\" \")\n",
    "    s=s[x+1:]\n",
    "    M=s[0].upper()==s[0]\n",
    "    print(M)\n",
    "'''  \n",
    "    if M==True:\n",
    "    print(\"True\")\n",
    "else:\n",
    "    print(\"Fasle\")\n",
    "'''"
   ]
  },
  {
   "cell_type": "markdown",
   "id": "f43e32af",
   "metadata": {},
   "source": [
    "Cách sử dụng lệnh có sẵn:"
   ]
  },
  {
   "cell_type": "code",
   "execution_count": null,
   "id": "714f1412",
   "metadata": {},
   "outputs": [],
   "source": [
    "\n",
    "    \n"
   ]
  }
 ],
 "metadata": {
  "kernelspec": {
   "display_name": "Python 3 (ipykernel)",
   "language": "python",
   "name": "python3"
  },
  "language_info": {
   "codemirror_mode": {
    "name": "ipython",
    "version": 3
   },
   "file_extension": ".py",
   "mimetype": "text/x-python",
   "name": "python",
   "nbconvert_exporter": "python",
   "pygments_lexer": "ipython3",
   "version": "3.10.0"
  }
 },
 "nbformat": 4,
 "nbformat_minor": 5
}
