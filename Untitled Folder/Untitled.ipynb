{
 "cells": [
  {
   "cell_type": "code",
   "execution_count": 1,
   "id": "a0286c16",
   "metadata": {},
   "outputs": [],
   "source": [
    "import turtle as t\n",
    "t.color(\"blue\",\"yellow\")\n",
    "t.speed(0)\n",
    "t.penup()\n",
    "t.goto(0,-150)\n",
    "t.pendown()\n",
    "t.begin_fill()\n",
    "t.circle(200)\n",
    "t.end_fill()\n",
    "t.penup()\n",
    "t.goto(80,130)\n",
    "t.pendown()\n",
    "t.pensize(2)\n",
    "t.color(\"red\",\"blue\")\n",
    "t.begin_fill()\n",
    "t.circle(20)\n",
    "t.end_fill()\n",
    "t.penup()\n",
    "t.goto(-80,130)\n",
    "t.pendown()\n",
    "t.pensize(2)\n",
    "t.color(\"red\",\"blue\")\n",
    "t.begin_fill()\n",
    "t.circle(20)\n",
    "t.end_fill()\n",
    "t.penup()\n",
    "t.goto(0,60)\n",
    "t.pendown()\n",
    "t.rt(60)\n",
    "t.fd(20)\n",
    "for i in range(2):\n",
    "    t.rt(120)\n",
    "    t.fd(20)\n",
    "t.penup()\n",
    "t.rt(150)\n",
    "t.goto(-120,0)\n",
    "t.pendown()\n",
    "t.circle(120,180)\n",
    "\n"
   ]
  },
  {
   "cell_type": "code",
   "execution_count": null,
   "id": "96ca2a97",
   "metadata": {},
   "outputs": [],
   "source": []
  }
 ],
 "metadata": {
  "kernelspec": {
   "display_name": "Python 3 (ipykernel)",
   "language": "python",
   "name": "python3"
  },
  "language_info": {
   "codemirror_mode": {
    "name": "ipython",
    "version": 3
   },
   "file_extension": ".py",
   "mimetype": "text/x-python",
   "name": "python",
   "nbconvert_exporter": "python",
   "pygments_lexer": "ipython3",
   "version": "3.10.0"
  }
 },
 "nbformat": 4,
 "nbformat_minor": 5
}
