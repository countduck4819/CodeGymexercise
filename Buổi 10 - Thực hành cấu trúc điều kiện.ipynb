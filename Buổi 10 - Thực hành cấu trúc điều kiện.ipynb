{
 "cells": [
  {
   "cell_type": "markdown",
   "id": "dcdb816e",
   "metadata": {},
   "source": [
    "# Thực hành cấu trúc điều khiển\n",
    "\n",
    "### Bài 1\n",
    "\n",
    "Cho phương trình bậc 2: ax^2 + bx + c = 0\n",
    "\n",
    "Nhập a, b, c\n",
    "\n",
    "Giải và biện luận phương trình trên"
   ]
  },
  {
   "cell_type": "code",
   "execution_count": 2,
   "id": "b5a5c325",
   "metadata": {},
   "outputs": [
    {
     "name": "stdout",
     "output_type": "stream",
     "text": [
      "Nhập vào số a:1\n",
      "Nhập vào số b:-2\n",
      "Nhập vào số c:1\n",
      "phương trình có 1 nghiệm kép: 1.0\n"
     ]
    }
   ],
   "source": [
    "a = float(input(\"Nhập vào số a:\"))\n",
    "b = float(input(\"Nhập vào số b:\"))\n",
    "c = float(input(\"Nhập vào số c:\"))\n",
    "candenta=(b**2-4*a*c)**(1/2)\n",
    "denta=(b**2-4*a*c)\n",
    "if a!=0:\n",
    "    if denta>0:\n",
    "        x1= (-b - candenta)/(2*a)\n",
    "        x2= (-b + candenta)/(2*a)\n",
    "        print(\"phương trình có 2 nghiệm:\")\n",
    "        print(\"x1\",x1)\n",
    "        print(\"x2\",x2)\n",
    "    elif denta==0:\n",
    "        x=-b/(2*a)\n",
    "        print(\"phương trình có 1 nghiệm kép:\",x)\n",
    "    else:\n",
    "        print(\"phương trình vô nghiệm\")\n",
    "else:\n",
    "    print(\"phương trình không phải phương trình bậc 2 \")"
   ]
  },
  {
   "cell_type": "markdown",
   "id": "6f7d329d",
   "metadata": {},
   "source": [
    "### Bài 2\n",
    "\n",
    "Hãy nhập vào một số\n",
    "\n",
    "Xác định coi đó có phải là số nguyên tố hay không"
   ]
  },
  {
   "cell_type": "code",
   "execution_count": 2,
   "id": "049c85f5",
   "metadata": {},
   "outputs": [
    {
     "name": "stdout",
     "output_type": "stream",
     "text": [
      "Nhập vào 1 số:1111\n",
      "Đây là số nguyên tố\n"
     ]
    }
   ],
   "source": [
    "a = int(input(\"Nhập vào 1 số:\"))\n",
    "b=1\n",
    "c=0\n",
    "if a>=2:\n",
    "    for i in range(a):\n",
    "        if a%b==0:\n",
    "            c=c+1\n",
    "            b=b+1\n",
    "            if c>2:\n",
    "                print(\"Đây không là số nguyên tố\")\n",
    "            else:\n",
    "                print(\"Đây là số nguyên tố\")\n",
    "                "
   ]
  },
  {
   "cell_type": "code",
   "execution_count": 144,
   "id": "8472f495",
   "metadata": {},
   "outputs": [
    {
     "name": "stdout",
     "output_type": "stream",
     "text": [
      "nhập số cần kiểm tra số nguyên tố3\n",
      "số vừa nhập là số nguyên tố\n"
     ]
    }
   ],
   "source": [
    "so = int(input(\"nhập số cần kiểm tra số nguyên tố\"))\n",
    "dem = 0\n",
    "for i in range (1,so):\n",
    "    if so % i == 0:\n",
    "        dem += 1\n",
    "if dem == 1:\n",
    "    print(\"số vừa nhập là số nguyên tố\")\n",
    "else:\n",
    "    print(\"số vừa nhập không phải là số nguyên tố\")"
   ]
  },
  {
   "cell_type": "markdown",
   "id": "75f7717b",
   "metadata": {},
   "source": [
    "### Bài 3\n",
    "\n",
    "Hãy nhập vào số n\n",
    "\n",
    "Hãy đếm số chữ số 0 tận cùng của n giai thừa"
   ]
  },
  {
   "cell_type": "code",
   "execution_count": 148,
   "id": "789e0e76",
   "metadata": {},
   "outputs": [
    {
     "name": "stdout",
     "output_type": "stream",
     "text": [
      "0\n",
      "1\n",
      "2\n",
      "3\n"
     ]
    }
   ],
   "source": [
    "for i in range(4):\n",
    "    print(i)"
   ]
  },
  {
   "cell_type": "markdown",
   "id": "29cd6c81",
   "metadata": {},
   "source": [
    "### Bài 4\n",
    "\n",
    "In ra tất cả các số chia hết cho 3 nhỏ hơn 100"
   ]
  },
  {
   "cell_type": "code",
   "execution_count": 3,
   "id": "0b848981",
   "metadata": {},
   "outputs": [
    {
     "name": "stdout",
     "output_type": "stream",
     "text": [
      "3\n",
      "6\n",
      "9\n",
      "12\n",
      "15\n",
      "18\n",
      "21\n",
      "24\n",
      "27\n",
      "30\n",
      "33\n",
      "36\n",
      "39\n",
      "42\n",
      "45\n",
      "48\n",
      "51\n",
      "54\n",
      "57\n",
      "60\n",
      "63\n",
      "66\n",
      "69\n",
      "72\n",
      "75\n",
      "78\n",
      "81\n",
      "84\n",
      "87\n",
      "90\n",
      "93\n",
      "96\n",
      "99\n"
     ]
    }
   ],
   "source": [
    "a=0\n",
    "for i in range(33):\n",
    "    a+=3\n",
    "    print(a)"
   ]
  },
  {
   "cell_type": "markdown",
   "id": "04dbf99b",
   "metadata": {},
   "source": [
    "### Bài 5\n",
    "\n",
    "In ra tất cả các số lẻ nhưng không chia hết cho 3 nhỏ hơn 100"
   ]
  },
  {
   "cell_type": "code",
   "execution_count": 13,
   "id": "769eb439",
   "metadata": {},
   "outputs": [
    {
     "name": "stdout",
     "output_type": "stream",
     "text": [
      "1\n",
      "5\n",
      "7\n",
      "11\n",
      "13\n",
      "17\n",
      "19\n",
      "23\n",
      "25\n",
      "29\n",
      "31\n",
      "35\n",
      "37\n",
      "41\n",
      "43\n",
      "47\n",
      "49\n",
      "53\n",
      "55\n",
      "59\n",
      "61\n",
      "65\n",
      "67\n",
      "71\n",
      "73\n",
      "77\n",
      "79\n",
      "83\n",
      "85\n",
      "89\n",
      "91\n",
      "95\n",
      "97\n"
     ]
    }
   ],
   "source": [
    "a=0\n",
    "for i in range(101):\n",
    "    a+=1\n",
    "    if not a%2==0 and 0<a<100 and not a%3==0:\n",
    "        print(a)"
   ]
  },
  {
   "cell_type": "code",
   "execution_count": 9,
   "id": "8509df1e",
   "metadata": {},
   "outputs": [
    {
     "ename": "SyntaxError",
     "evalue": "invalid decimal literal (Temp/ipykernel_18440/1610014239.py, line 5)",
     "output_type": "error",
     "traceback": [
      "\u001b[1;36m  File \u001b[1;32m\"C:\\Users\\DELL\\AppData\\Local\\Temp/ipykernel_18440/1610014239.py\"\u001b[1;36m, line \u001b[1;32m5\u001b[0m\n\u001b[1;33m    1. Gà rán giá 35k\u001b[0m\n\u001b[1;37m                   ^\u001b[0m\n\u001b[1;31mSyntaxError\u001b[0m\u001b[1;31m:\u001b[0m invalid decimal literal\n"
     ]
    }
   ],
   "source": [
    "### Bài 5\n",
    "\n",
    "Tại một cửa hàng nọ có menu như sau:\n",
    "\n",
    "1. Gà rán giá 35k\n",
    "2. Hamburger giá 50k\n",
    "3. Pesi giá 10k\n",
    "\n",
    "Nhập số lượng món hàng cần mua\n",
    "\n",
    "Tính và in ra tổng giá tiền (hiển thị có dấu chấm mỗi 3 chữ số để người dùng để quan sát)\n",
    "\n",
    "Nếu giá trị đơn hàng trên 2 triệu, giảm 10% cho khách, trên 4 triệu, giảm 15%\n",
    "\n",
    "Tính và in ra tổng giá tiền được giảm (hiển thị có dấu chấm mỗi 3 chữ số để người dùng để quan sát)\n",
    "\n",
    "Tính và in ra tổng giá tiền khách cần trả (hiển thị có dấu chấm mỗi 3 chữ số để người dùng để quan sát)\n",
    "\n",
    "In ra dòng chữ \"Cảm ơn quý khách đã mua hàng\"\n",
    "\n",
    "\n"
   ]
  },
  {
   "cell_type": "code",
   "execution_count": 4,
   "id": "7e87b073",
   "metadata": {},
   "outputs": [
    {
     "name": "stdout",
     "output_type": "stream",
     "text": [
      "Nhập vào số lượng mua gà rán:10\n",
      "Nhập vào số lượng mua gà hamburger:5\n",
      "Nhập vào số lượng mua gà pesi:10\n",
      "Tiền khách cần trả là: 700.000\n",
      "Cảm ơn quý khách đã mua hàng,hẹn gặp lại quý khách!\n"
     ]
    }
   ],
   "source": [
    "a=int(input(\"Nhập vào số lượng mua gà rán:\"))\n",
    "b=int(input(\"Nhập vào số lượng mua gà hamburger:\"))\n",
    "c=int(input(\"Nhập vào số lượng mua gà pesi:\"))\n",
    "tongtien = a*35000 +b*50000 + c*10000\n",
    "d=len(str(tongtien))\n",
    "g=0\n",
    "x=3\n",
    "chuoi=str(tongtien)[::-1]\n",
    "e=(len(str(tongtien)))/3 \n",
    "\n",
    "if tongtien>=10000:\n",
    "    if tongtien>=10000 and tongtien<100000:\n",
    "        chuoi=chuoi[g:x]+\".\"+chuoi[g+3:]\n",
    "        print(\"Tiền khách cần trả là:\",chuoi[::-1])\n",
    "    if 100000<=tongtien and tongtien <=2000000 :\n",
    "        if e==int(e):\n",
    "            chuoi=chuoi[g:x]+\".\"+chuoi[g+3:x+3]\n",
    "            \n",
    "        elif e!=int(e):\n",
    "            chuoi=chuoi[g:x]+\".\"+chuoi[g+3:x+3]+\".\"+chuoi[g+6:x+6]\n",
    "        print(\"Tiền khách cần trả là:\",chuoi[::-1])\n",
    "    elif tongtien <=4000000 and tongtien > 2000000:\n",
    "        tienduocgiam=int(tongtien/10)\n",
    "        chuoi=str(tienduocgiam)[::-1]\n",
    "        chuoi=chuoi[g:x]+\".\"+chuoi[g+3:x+3]\n",
    "        print(\"Tiền khách được giảm là:\",chuoi[::-1])\n",
    "        tongtien=int(tienduocgiam*9)\n",
    "        chuoi=str(tongtien)[::-1]\n",
    "        chuoi=chuoi[g:x]+\".\"+chuoi[g+3:x+3]+\".\"+chuoi[g+6:]\n",
    "        print(\"Tiền khách cần trả là:\",chuoi[::-1])\n",
    "    elif tongtien >4000000:\n",
    "        tienduocgiam=int((tongtien*15)/100)\n",
    "        chuoi=str(tienduocgiam)[::-1]\n",
    "        e=(len(str(tienduocgiam)))/3 \n",
    "        if e==int(e):\n",
    "            chuoi=chuoi[g:x]+\".\"+chuoi[g+3:x+3]\n",
    "        elif e!=int(e):\n",
    "            chuoi=chuoi[g:x]+\".\"+chuoi[g+3:x+3]+\".\"+chuoi[g+6:x+6]\n",
    "        print(\"Tiền khách được giảm là:\",chuoi[::-1])\n",
    "        tongtien=tongtien-tienduocgiam\n",
    "        chuoi=str(tongtien)[::-1]\n",
    "        chuoi=chuoi[g:x]+\".\"+chuoi[g+3:x+3]+\".\"+chuoi[g+6:]\n",
    "        print(\"Tiền khách cần trả là:\",chuoi[::-1])\n",
    "    print(\"Cảm ơn quý khách đã mua hàng,hẹn gặp lại quý khách!\")   \n",
    "        "
   ]
  },
  {
   "cell_type": "code",
   "execution_count": null,
   "id": "205ffcce",
   "metadata": {},
   "outputs": [],
   "source": [
    "chuoi = str(money)\n",
    "dem = 0\n",
    "vitri = len(chuoi) - 1\n",
    "for i in range(len(chuoi)):\n",
    "    dem = dem + 1\n",
    "    if (dem == 3) and vitri != 0 :\n",
    "        nuatruoc = chuoi[ :vitri]\n",
    "        nuasau = chuoi[vitri: ]\n",
    "        chuoi = nuatruoc + \".\" + nuasau\n",
    "        dem = 0\n",
    "    vitri = vitri - 1\n"
   ]
  },
  {
   "cell_type": "markdown",
   "id": "ab10a1ce",
   "metadata": {},
   "source": [
    "### Bài 6\n",
    "\n",
    "Nhập vào chiều cao (cm) và cân nặng (kg), tính số BMI và xét rồi xin kết quả theo dữ liệu sau:\n",
    "\n",
    "- BMI < 16: Gầy cấp độ III\n",
    "- 16 <= BMI < 17:  Gầy cấp độ II\n",
    "- 17<= BMI < 18.5: Gầy cấp độ I\n",
    "- 18.5 <= BMI < 25: Bình thường\n",
    "- 25 <= BMI < 30: Thừa cân\n",
    "- 30 <= BMI < 35 : Béo phì cấp độ I\n",
    "- 35 <= BMI < 40: Béo phì cấp độ II\n",
    "- BMI > 40: Béo phì cấp độ III"
   ]
  },
  {
   "cell_type": "code",
   "execution_count": 5,
   "id": "5db1aec5",
   "metadata": {},
   "outputs": [
    {
     "name": "stdout",
     "output_type": "stream",
     "text": [
      "Nhập vào chiều cao:4\n",
      "Nhập vào cân năng:2\n",
      "4.0 (m)\n",
      "2.0 (kg)\n",
      "Gầy cấp độ III\n"
     ]
    }
   ],
   "source": [
    "a=float(input(\"Nhập vào chiều cao:\"))\n",
    "b=float(input(\"Nhập vào cân năng:\"))\n",
    "print(str(a),\"(m)\")\n",
    "print(str(b),\"(kg)\")\n",
    "\n",
    "BMI=(b/(a**2))\n",
    "if BMI < 16: \n",
    "    print(\"Gầy cấp độ III\")\n",
    "elif BMI < 17:\n",
    "    print(\"Gầy cấp độ II\")\n",
    "elif BMI < 18.5:\n",
    "    print(\"Gầy cấp độ I\")\n",
    "elif BMI < 25:\n",
    "    print(\"Bình thường\")\n",
    "elif BMI < 30:\n",
    "    print(\"Thừa cân\")\n",
    "elif BMI < 35 :\n",
    "    print(\"Béo phì cấp độ I\")\n",
    "elif BMI <40:\n",
    "    print(\"Béo phì cấp độ II\")\n",
    "else:\n",
    "    print(\"Béo phì cấp độ III\")"
   ]
  },
  {
   "cell_type": "markdown",
   "id": "f7620342",
   "metadata": {},
   "source": [
    "### Bài 7\n",
    "\n",
    "Nhập ngày, tháng, năm. Hãy tính và in ra màn hình kể từ đầu năm đến ngày vừa nhập là bao nhiêu ngày."
   ]
  },
  {
   "cell_type": "code",
   "execution_count": 11,
   "id": "767469b7",
   "metadata": {},
   "outputs": [
    {
     "name": "stdout",
     "output_type": "stream",
     "text": [
      "Nhập vào ngày:3\n",
      "Nhập vào tháng:4\n",
      "NHập vào năm:2\n",
      "Ngày tháng năm đã chọn:3/4/2\n"
     ]
    }
   ],
   "source": [
    "ngay= int(input(\"Nhập vào ngày:\"))\n",
    "thang = int(input(\"Nhập vào tháng:\"))\n",
    "nam= int(input(\"NHập vào năm:\"))\n",
    "songay=0\n",
    "print(\"Ngày tháng năm đã chọn:\",end=\"\")\n",
    "print(ngay,thang,nam,sep=\"/\")\n",
    "if nam%4==0:\n",
    "    if thang==1:\n",
    "            print(ngay)\n",
    "        if thang==2 and ngay<29:\n",
    "            ngay=31+ngay\n",
    "            print(ngay)\n",
    "        elif thang==2 and ngay=29:\n",
    "            ngay=60\n",
    "            print(ngay)\n",
    "        if thang%2==0 and thang<=7:\n",
    "            if b>2:\n",
    "                ngay=31*(\n",
    "    \n"
   ]
  },
  {
   "cell_type": "code",
   "execution_count": 4,
   "id": "bf86f03d",
   "metadata": {},
   "outputs": [
    {
     "name": "stdout",
     "output_type": "stream",
     "text": [
      "Nhập ngày: 30\n",
      "Nhập tháng: 11\n",
      "Nhập năm: 2000\n",
      "335\n"
     ]
    }
   ],
   "source": [
    "ngay = int(input('Nhập ngày: '))\n",
    "thang = int(input('Nhập tháng: '))\n",
    "nam = int(input('Nhập năm: '))\n",
    "tong = 0\n",
    "if thang < 8:\n",
    "    chaythang = 1\n",
    "    for i in range(thang - 1):\n",
    "        if chaythang == 2:\n",
    "            if nam % 4 == 0:\n",
    "                tong += 29\n",
    "            else:\n",
    "                tong += 28\n",
    "        else:\n",
    "            if chaythang % 2 == 0:\n",
    "                tong += 30\n",
    "            else:\n",
    "                tong += 31\n",
    "        chaythang = chaythang + 1\n",
    "        print(tong)\n",
    "    tong = tong + ngay\n",
    "else:\n",
    "    chaythang = 1\n",
    "    for i in range(7):\n",
    "        if chaythang == 2:\n",
    "            if nam % 4 == 0:\n",
    "                tong += 29\n",
    "            else:\n",
    "                tong += 28\n",
    "        else:\n",
    "            if chaythang % 2 == 0:\n",
    "                tong += 30\n",
    "            else:\n",
    "                tong += 31\n",
    "        chaythang = chaythang + 1\n",
    "    chaythang = 8\n",
    "    for i in range(thang - 7 - 1):\n",
    "        if chaythang % 2 == 0:\n",
    "            tong += 31\n",
    "        else:\n",
    "            tong += 30\n",
    "        chaythang=chaythang+1\n",
    "    tong = tong + ngay\n",
    "print(tong)"
   ]
  },
  {
   "cell_type": "markdown",
   "id": "7b66d8d5",
   "metadata": {},
   "source": [
    "### Bài 8\n",
    "\n",
    "Dựa vào bài vẽ đồ thị trong buổi học 6\n",
    "\n",
    "Hãy nhập vào 3 dữ liệu a, b, c bất kỳ (số thực)\n",
    "\n",
    "Tính toán và vẽ đồ thị với chiều cao của cột cao nhất là 300 đơn vị"
   ]
  },
  {
   "cell_type": "code",
   "execution_count": null,
   "id": "e950e96c",
   "metadata": {},
   "outputs": [],
   "source": []
  }
 ],
 "metadata": {
  "kernelspec": {
   "display_name": "Python 3 (ipykernel)",
   "language": "python",
   "name": "python3"
  },
  "language_info": {
   "codemirror_mode": {
    "name": "ipython",
    "version": 3
   },
   "file_extension": ".py",
   "mimetype": "text/x-python",
   "name": "python",
   "nbconvert_exporter": "python",
   "pygments_lexer": "ipython3",
   "version": "3.10.0"
  }
 },
 "nbformat": 4,
 "nbformat_minor": 5
}
